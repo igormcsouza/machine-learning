{
 "cells": [
  {
   "cell_type": "code",
   "execution_count": 1,
   "metadata": {},
   "outputs": [
    {
     "data": {
      "text/plain": [
       "array([19.99    , 19.809999, 20.33    , ..., 18.26    , 18.4     ,\n",
       "       18.42    ])"
      ]
     },
     "execution_count": 1,
     "metadata": {},
     "output_type": "execute_result"
    }
   ],
   "source": [
    "import pandas as pd\n",
    "base = pd.read_csv('../databases/petr4.csv')\n",
    "base = base.dropna()\n",
    "\n",
    "base = base.iloc[:,1].values\n",
    "base"
   ]
  },
  {
   "cell_type": "code",
   "execution_count": 2,
   "metadata": {},
   "outputs": [
    {
     "data": {
      "text/plain": [
       "[<matplotlib.lines.Line2D at 0x7fdea1810240>]"
      ]
     },
     "execution_count": 2,
     "metadata": {},
     "output_type": "execute_result"
    },
    {
     "data": {
      "image/png": "[encoded data removed]",
      "text/plain": [
       "<Figure size 432x288 with 1 Axes>"
      ]
     },
     "metadata": {
      "needs_background": "light"
     },
     "output_type": "display_data"
    }
   ],
   "source": [
    "import matplotlib.pyplot as plt\n",
    "%matplotlib inline\n",
    "plt.plot(base)"
   ]
  },
  {
   "cell_type": "code",
   "execution_count": 3,
   "metadata": {},
   "outputs": [],
   "source": [
    "periodos = 30\n",
    "previsao_futura = 1 # horizonte\n",
    "\n",
    "X = base[0:(len(base) - (len(base) % periodos))]\n",
    "X_batches = X.reshape(-1, periodos, 1)\n",
    "\n",
    "y = base[1:(len(base) - (len(base) % periodos)) + previsao_futura]\n",
    "y_batches = y.reshape(-1, periodos, 1)\n",
    "\n",
    "X_teste = base[-(periodos + previsao_futura):]\n",
    "X_teste = X_teste[:periodos]\n",
    "X_teste = X_teste.reshape(-1, periodos, 1)\n",
    "y_teste = base[-(periodos):]\n",
    "y_teste = y_teste.reshape(-1, periodos, 1)"
   ]
  },
  {
   "cell_type": "code",
   "execution_count": 4,
   "metadata": {},
   "outputs": [],
   "source": [
    "import tensorflow as tf\n",
    "tf.reset_default_graph()\n",
    "\n",
    "entradas = 1\n",
    "neuronios_oculta = 100\n",
    "neuronios_saida = 1\n",
    "\n",
    "xph = tf.placeholder(tf.float32, [None, periodos, entradas])\n",
    "yph = tf.placeholder(tf.float32, [None, periodos, neuronios_saida])\n",
    "\n",
    "def cria_uma_celula():\n",
    "    return tf.contrib.rnn.LSTMCell(num_units = neuronios_oculta, activation = tf.nn.relu)\n",
    "\n",
    "def cria_varias_celulas(dropout=False, layers=4):\n",
    "    if dropout:\n",
    "        celulas = tf.nn.rnn_cell.MultiRNNCell([cria_uma_celula() for i in range(layers)])\n",
    "        return tf.contrib.rnn.DropoutWrapper(celulas, output_keep_prob = 0.1)\n",
    "    else:\n",
    "        return tf.nn.rnn_cell.MultiRNNCell([cria_uma_celula() for i in range(layers)])"
   ]
  },
  {
   "cell_type": "code",
   "execution_count": 5,
   "metadata": {},
   "outputs": [
    {
     "name": "stdout",
     "output_type": "stream",
     "text": [
      "\n",
      "WARNING: The TensorFlow contrib module will not be included in TensorFlow 2.0.\n",
      "For more information, please see:\n",
      "  * https://github.com/tensorflow/community/blob/master/rfcs/20180907-contrib-sunset.md\n",
      "  * https://github.com/tensorflow/addons\n",
      "If you depend on functionality not listed there, please file an issue.\n",
      "\n",
      "WARNING:tensorflow:From <ipython-input-5-1eeb4791385c>:2: BasicRNNCell.__init__ (from tensorflow.python.ops.rnn_cell_impl) is deprecated and will be removed in a future version.\n",
      "Instructions for updating:\n",
      "This class is equivalent as tf.keras.layers.SimpleRNNCell, and will be replaced by that in Tensorflow 2.0.\n"
     ]
    }
   ],
   "source": [
    "# Basic Way\n",
    "celula = tf.contrib.rnn.BasicRNNCell(num_units = neuronios_oculta, activation = tf.nn.relu)\n",
    "# Connection between the RNN layer with the output layer\n",
    "celula = tf.contrib.rnn.OutputProjectionWrapper(celula, output_size = 1)\n",
    "\n",
    "# # Complex Way\n",
    "# celula = cria_varias_celulas()\n",
    "# # Connection between the RNN layer with the output layer\n",
    "# celula = tf.contrib.rnn.OutputProjectionWrapper(celula, output_size = 1)"
   ]
  },
  {
   "cell_type": "code",
   "execution_count": 6,
   "metadata": {},
   "outputs": [
    {
     "name": "stdout",
     "output_type": "stream",
     "text": [
      "WARNING:tensorflow:From <ipython-input-6-b57ed42c397b>:1: dynamic_rnn (from tensorflow.python.ops.rnn) is deprecated and will be removed in a future version.\n",
      "Instructions for updating:\n",
      "Please use `keras.layers.RNN(cell)`, which is equivalent to this API\n",
      "WARNING:tensorflow:From /home/souza/Documents/virtualenvs/datascience/lib/python3.7/site-packages/tensorflow/python/ops/tensor_array_ops.py:162: colocate_with (from tensorflow.python.framework.ops) is deprecated and will be removed in a future version.\n",
      "Instructions for updating:\n",
      "Colocations handled automatically by placer.\n",
      "WARNING:tensorflow:From /home/souza/Documents/virtualenvs/datascience/lib/python3.7/site-packages/tensorflow/python/ops/losses/losses_impl.py:667: to_float (from tensorflow.python.ops.math_ops) is deprecated and will be removed in a future version.\n",
      "Instructions for updating:\n",
      "Use tf.cast instead.\n"
     ]
    }
   ],
   "source": [
    "saida_rnn, _ = tf.nn.dynamic_rnn(celula, xph, dtype = tf.float32)\n",
    "erro = tf.losses.mean_squared_error(labels = yph, predictions = saida_rnn)\n",
    "otimizador = tf.train.AdamOptimizer(learning_rate = 0.001)\n",
    "treinamento = otimizador.minimize(erro)"
   ]
  },
  {
   "cell_type": "code",
   "execution_count": 7,
   "metadata": {},
   "outputs": [
    {
     "name": "stdout",
     "output_type": "stream",
     "text": [
      "1  erro:  218.32787\n",
      "101  erro:  3.393272\n",
      "201  erro:  1.0283978\n",
      "301  erro:  0.24478604\n",
      "401  erro:  0.20012954\n",
      "501  erro:  0.19768623\n",
      "601  erro:  0.19623375\n",
      "701  erro:  0.19525044\n",
      "801  erro:  0.19446626\n",
      "901  erro:  0.1936947\n",
      "Done...\n"
     ]
    }
   ],
   "source": [
    "with tf.Session() as sess:\n",
    "    sess.run(tf.global_variables_initializer())\n",
    "    \n",
    "    for epoca in range(1000):\n",
    "        _, custo = sess.run([treinamento, erro], feed_dict = {xph: X_batches, yph: y_batches})\n",
    "        if epoca % 100 == 0:\n",
    "            print(epoca + 1, ' erro: ', custo)\n",
    "    \n",
    "    previsoes = sess.run(saida_rnn, feed_dict = {xph: X_teste})\n",
    "    print(\"Done...\")"
   ]
  },
  {
   "cell_type": "code",
   "execution_count": 8,
   "metadata": {},
   "outputs": [],
   "source": [
    "import numpy as np\n",
    "y_teste.shape\n",
    "y_teste2 = np.ravel(y_teste)\n",
    "\n",
    "previsoes2 = np.ravel(previsoes)"
   ]
  },
  {
   "cell_type": "code",
   "execution_count": 9,
   "metadata": {},
   "outputs": [
    {
     "data": {
      "text/plain": [
       "<matplotlib.legend.Legend at 0x7fde7f7f7a58>"
      ]
     },
     "execution_count": 9,
     "metadata": {},
     "output_type": "execute_result"
    },
    {
     "data": {
      "image/png": "[encoded data removed]",
      "text/plain": [
       "<Figure size 432x288 with 1 Axes>"
      ]
     },
     "metadata": {
      "needs_background": "light"
     },
     "output_type": "display_data"
    }
   ],
   "source": [
    "from sklearn.metrics import mean_absolute_error\n",
    "mae = mean_absolute_error(y_teste2, previsoes2)\n",
    "\n",
    "# plt.plot(y_teste2, '*', markersize = 10, label = 'Valor real')\n",
    "# plt.plot(previsoes2, 'o', label = 'Previsões')\n",
    "# plt.legend()\n",
    "\n",
    "plt.plot(y_teste2, label = 'Valor real')\n",
    "plt.plot(y_teste2, markersize = 10, color = 'red')\n",
    "plt.plot(previsoes2, label = 'Previsões')\n",
    "plt.legend()"
   ]
  },
  {
   "cell_type": "code",
   "execution_count": null,
   "metadata": {},
   "outputs": [],
   "source": []
  }
 ],
 "metadata": {
  "kernelspec": {
   "display_name": "Python 3",
   "language": "python",
   "name": "python3"
  },
  "language_info": {
   "codemirror_mode": {
    "name": "ipython",
    "version": 3
   },
   "file_extension": ".py",
   "mimetype": "text/x-python",
   "name": "python",
   "nbconvert_exporter": "python",
   "pygments_lexer": "ipython3",
   "version": "3.7.3"
  }
 },
 "nbformat": 4,
 "nbformat_minor": 2
}
