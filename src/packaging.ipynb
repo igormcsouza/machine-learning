{
 "cells": [
  {
   "cell_type": "markdown",
   "metadata": {},
   "source": [
    "Esse assunto, para mim, é bem legal de ser falado por que foi uma de minhas maiores dores ao iniciar na programação. A primeira vez que tive contato com esse estilo de código foi quando estava nos primeiros anos da faculdade aprendendo a usar os Headers da linguagem C, achava muito interessante como conseguiamos guardar funções e edita-las para uso futuro.\n",
    "\n",
    "Esse conhecimento avançou quando iniciei meus estudos de Java, os pacotes em java são muito fortes e a linguagem orientada a objeto ajuda muito nesse processo.\n",
    "\n",
    "Passei muitos anos programando em Python, mas sem nunca ter usado pacotes, quando finalmente me veio a ideia de salvar alguns códigos que eu usava muito em uma pasta comum aonde eu poderia acessar de outros projetos. Nesta fase eu tinha apenas uma pasta com alguns scripts e nosso famoso `__init__.py`. \n",
    "\n",
    "O conhecimento foi melhorando e finalmente fiz meu primeiro pacote do zero. Esse primeiro pacote me ajudava a automatizar alguns trabalhos que eu fazia constantemente, inclusive os de usar com [rsync](https://e-tinet.com/linux/sincronizacao-de-arquivos-no-linux-rsync/). Desde então fiz muitos upgrades nesse pequeno utility e hoje em dia até download de videos da internet faço por ele. Aonde quer que eu esteja basta instalar ele e já consigo facilmente fazer pequenos trabalhos diários que são bem chatos de fazer sem.\n",
    "\n",
    "Pacotes vai muito além disso, imagine seu projeto de Ciência de Dados, as vezes ele pode ser bem complexo e você precisa organizar de forma que seja fácil e rápido de acessar. Outro motivo pode ser simplemente um pacote de utilidades, ferramentas ou jeito de programação que te acompanham em vários lugares, ter um pacote pronto e disponível ajuda muito nesses casos.\n",
    "\n",
    "Hoje vou ensinar um jeito fácil de criar seus pacotes e usar em seus projetos daqui pra frente! Vamos lá ao que interessa."
   ]
  },
  {
   "cell_type": "markdown",
   "metadata": {},
   "source": [
    "## Iniciando seu primeiro pacote\n",
    "\n",
    "A estrutura de um pacote é muito simples. Para simplificar o método vamos criar juntos um pacote que faz calculos matemáticos no terminal. Por exemplo `add 2 2`, deve retornar `4`. Vamos lá por a mão na massa.\n",
    "\n",
    "A estrutura do pacote deve feita da seguinte forma:\n",
    "\n",
    "```\n",
    "|calculadora\n",
    "|-- setup.py\n",
    "|-- calculadora\n",
    "|-- -- __init__.py\n",
    "|-- -- add.py\n",
    "```\n",
    "\n",
    "Para esse projeto só vamos trabalhar com o pacote, mas se você quiser adicionar outros sub-pacotes segue a mesma lógica, só tendo atenção nos caminhos dos arquivos.\n",
    "\n",
    "Vamos dar uma olhada no `setup.py`"
   ]
  },
  {
   "cell_type": "code",
   "execution_count": null,
   "metadata": {},
   "outputs": [],
   "source": [
    "from setuptools import setup\n",
    "from setuptools import find_packages\n",
    "\n",
    "setup(\n",
    "    name='calculadora', \n",
    "    version='0.0.1',\n",
    "    description='Faz calculos no terminal',\n",
    "    author='Igor Souza',\n",
    "    url='https://igormcsouza.github.io',\n",
    "    install_requires=['numpy'],\n",
    "    packages=find_packages(),\n",
    "    entry_points={\n",
    "        'console_scripts': [\n",
    "            'add=calculadora.add:main'\n",
    "        ]\n",
    "    }\n",
    ")"
   ]
  },
  {
   "cell_type": "markdown",
   "metadata": {},
   "source": [
    "Esse é o arquivo que vai comandar tudo no pacote é o `setup.py`. Vou explicar o que cada desses parametros significa. Esses primeiros parametros não são obrigatórios, mas ajudam a identificar o projeto.\n",
    "\n",
    "`name`: É o nome o projeto, tente manter ele simples, pode dar problema com nomes.\n",
    "\n",
    "`version`: É a versão do seu projeto, eu sempre inicio no 0.0.1 e sigo de acordo com o costume.\n",
    "\n",
    "`description`: É a descrição do projeto, pode ser escrito qualquer coisa que ajude a reconhecer o projeto.\n",
    "\n",
    "`author`: Quem criou o projeto.\n",
    "\n",
    "`url`: O link para o repositório se tiver, ou qualquer site que esteja ligado ao projeto\n",
    "\n",
    "Agora as coisas começam a ficar interessantes, os parametros abaixo vão lhe dar diretamente com o projeto e suas funcionalidades.\n",
    "\n",
    "`install_requires`: São todos os pacotes pré-requisitos do projeto, você pode criar uma lista como a do `requirements.txt`.\n",
    "\n",
    "`packages=find_packages()`: Deixe como está.\n",
    "\n",
    "`entry_points`: São os entry points do projeto. A chave `console_scripts` lhe permite usar palavras chaves para ativar certas funcionalidades do seu projeto, no nosso caso vamos usar o `add` para chamar nossa calculadora, para especificar sua funcionalidade apenas passar o caminho, no exemplo a função `main` em calculadora.add."
   ]
  },
  {
   "cell_type": "markdown",
   "metadata": {},
   "source": [
    "No nosso `add.py` vamos adicionar o seguinte:"
   ]
  },
  {
   "cell_type": "code",
   "execution_count": null,
   "metadata": {},
   "outputs": [],
   "source": [
    "import sys\n",
    "\n",
    "def main():\n",
    "    print(int(sys.argv[1]) + int(sys.argv[2]))"
   ]
  },
  {
   "cell_type": "markdown",
   "metadata": {},
   "source": [
    "Nosso pacote está pronto! :)\n",
    "\n",
    "Agora ele precisa ser instalado. Após você criar seu [ambiente virtual](https://www.treinaweb.com.br/blog/criando-ambientes-virtuais-para-projetos-python-com-o-virtualenv/) você precisa fazer a instalação na raiz do projeto usando o comando abaixo.\n",
    "\n",
    "```\n",
    "pip install -e .\n",
    "```\n",
    "\n",
    "Dessa forma você é capaz de, além de instalar pacotes, fazer alterações sem precisar reinstalar o pacote.\n",
    "\n",
    "Pronto! Está instalado e pronto para usar, edite o `setup.py` sempre que quiser fazer alterações no projeto. Matenha seu projeto atualizado. Sempre que adicionar uma pasta inicie ela com o `__init__.py`. "
   ]
  },
  {
   "cell_type": "markdown",
   "metadata": {},
   "source": [
    "```\n",
    "(utils) souza:calculadora$ add 1 2\n",
    "3\n",
    "```"
   ]
  },
  {
   "cell_type": "markdown",
   "metadata": {},
   "source": [
    "Agora você está pronto para fazer seus projetinhos em Python! :P"
   ]
  },
  {
   "cell_type": "code",
   "execution_count": null,
   "metadata": {},
   "outputs": [],
   "source": []
  }
 ],
 "metadata": {
  "kernelspec": {
   "display_name": "Python 3",
   "language": "python",
   "name": "python3"
  },
  "language_info": {
   "codemirror_mode": {
    "name": "ipython",
    "version": 3
   },
   "file_extension": ".py",
   "mimetype": "text/x-python",
   "name": "python",
   "nbconvert_exporter": "python",
   "pygments_lexer": "ipython3",
   "version": "3.6.9"
  }
 },
 "nbformat": 4,
 "nbformat_minor": 4
}
